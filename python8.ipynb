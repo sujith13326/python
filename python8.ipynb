{
 "cells": [
  {
   "cell_type": "code",
   "execution_count": 1,
   "metadata": {},
   "outputs": [
    {
     "name": "stdout",
     "output_type": "stream",
     "text": [
      "enter string:5\n",
      "length of string 5 is 1\n"
     ]
    }
   ],
   "source": [
    "str=input(\"enter string:\")\n",
    "c=0\n",
    "for i in str:\n",
    "    c=c+1\n",
    "print(\"length of string\",str,\"is\",c)"
   ]
  },
  {
   "cell_type": "code",
   "execution_count": 2,
   "metadata": {},
   "outputs": [
    {
     "name": "stdout",
     "output_type": "stream",
     "text": [
      "enter string:5\n",
      "['5']\n",
      "['5']\n",
      "{'5': 1}\n"
     ]
    }
   ],
   "source": [
    "str=input(\"enter string:\")\n",
    "s1=set(str)\n",
    "l1=list(s1)\n",
    "print(l1)\n",
    "l1.sort()\n",
    "print(l1)\n",
    "cl=[]\n",
    "for i in l1:\n",
    "    c=0\n",
    "    for j in str:\n",
    "        if j==i:\n",
    "            c=c+1\n",
    "    cl.append(c)\n",
    "d={}\n",
    "j=0\n",
    "for i in l1:\n",
    "    d[i]=cl[j]\n",
    "    j=j+1\n",
    "print(d)"
   ]
  },
  {
   "cell_type": "code",
   "execution_count": 14,
   "metadata": {},
   "outputs": [
    {
     "name": "stdout",
     "output_type": "stream",
     "text": [
      "enter string:sujith\n",
      "['sujith']\n"
     ]
    },
    {
     "ename": "IndexError",
     "evalue": "list index out of range",
     "output_type": "error",
     "traceback": [
      "\u001b[1;31m---------------------------------------------------------------------------\u001b[0m",
      "\u001b[1;31mIndexError\u001b[0m                                Traceback (most recent call last)",
      "\u001b[1;32m<ipython-input-14-f9b8441c2083>\u001b[0m in \u001b[0;36m<module>\u001b[1;34m\u001b[0m\n\u001b[0;32m      3\u001b[0m \u001b[0mprint\u001b[0m\u001b[1;33m(\u001b[0m\u001b[0ml1\u001b[0m\u001b[1;33m)\u001b[0m\u001b[1;33m\u001b[0m\u001b[1;33m\u001b[0m\u001b[0m\n\u001b[0;32m      4\u001b[0m \u001b[0mstr1\u001b[0m\u001b[1;33m=\u001b[0m\u001b[0ml1\u001b[0m\u001b[1;33m[\u001b[0m\u001b[1;36m0\u001b[0m\u001b[1;33m]\u001b[0m\u001b[1;33m\u001b[0m\u001b[1;33m\u001b[0m\u001b[0m\n\u001b[1;32m----> 5\u001b[1;33m \u001b[0mstr2\u001b[0m\u001b[1;33m=\u001b[0m\u001b[0ml1\u001b[0m\u001b[1;33m[\u001b[0m\u001b[1;36m1\u001b[0m\u001b[1;33m]\u001b[0m\u001b[1;33m\u001b[0m\u001b[1;33m\u001b[0m\u001b[0m\n\u001b[0m\u001b[0;32m      6\u001b[0m \u001b[0mstr1c\u001b[0m\u001b[1;33m=\u001b[0m\u001b[0mstr2\u001b[0m\u001b[1;33m[\u001b[0m\u001b[1;36m0\u001b[0m\u001b[1;33m]\u001b[0m\u001b[1;33m+\u001b[0m\u001b[0mstr1\u001b[0m\u001b[1;33m[\u001b[0m\u001b[1;36m1\u001b[0m\u001b[1;33m:\u001b[0m\u001b[1;33m]\u001b[0m\u001b[1;33m\u001b[0m\u001b[1;33m\u001b[0m\u001b[0m\n\u001b[0;32m      7\u001b[0m \u001b[0mstr2c\u001b[0m\u001b[1;33m=\u001b[0m\u001b[0mstr1\u001b[0m\u001b[1;33m[\u001b[0m\u001b[1;36m0\u001b[0m\u001b[1;33m]\u001b[0m\u001b[1;33m+\u001b[0m\u001b[0mstr2\u001b[0m\u001b[1;33m[\u001b[0m\u001b[1;36m1\u001b[0m\u001b[1;33m:\u001b[0m\u001b[1;33m]\u001b[0m\u001b[1;33m\u001b[0m\u001b[1;33m\u001b[0m\u001b[0m\n",
      "\u001b[1;31mIndexError\u001b[0m: list index out of range"
     ]
    }
   ],
   "source": [
    "str=input(\"enter string:\")\n",
    "l1=str.split(' ')\n",
    "print(l1)\n",
    "str1=l1[0]\n",
    "str2=l1[1]\n",
    "str1c=str2[0]+str1[1:]\n",
    "str2c=str1[0]+str2[1:]\n",
    "print(str1,str2)\n",
    "print(str1c,str2c)"
   ]
  },
  {
   "cell_type": "code",
   "execution_count": 5,
   "metadata": {},
   "outputs": [
    {
     "name": "stdout",
     "output_type": "stream",
     "text": [
      "enter string:suji\n",
      "SUJI\n",
      "suji\n"
     ]
    },
    {
     "data": {
      "text/plain": [
       "1"
      ]
     },
     "execution_count": 5,
     "metadata": {},
     "output_type": "execute_result"
    }
   ],
   "source": [
    "str=input(\"enter string:\")\n",
    "print(str.upper())\n",
    "print(str.lower())\n",
    "c"
   ]
  },
  {
   "cell_type": "code",
   "execution_count": 6,
   "metadata": {},
   "outputs": [
    {
     "name": "stdout",
     "output_type": "stream",
     "text": [
      "sujith \n",
      "\n",
      "sujith\n"
     ]
    }
   ],
   "source": [
    "str='sujith \\n'\n",
    "print(str)\n",
    "print(str.rstrip())"
   ]
  },
  {
   "cell_type": "code",
   "execution_count": 7,
   "metadata": {},
   "outputs": [
    {
     "name": "stdout",
     "output_type": "stream",
     "text": [
      "enter string:suji\n",
      "enter string to be searched:s\\\n",
      "count of-- s\\ --in string-- suji --is:\n",
      " 0\n"
     ]
    }
   ],
   "source": [
    "str=input(\"enter string:\")\n",
    "sub_str=input(\"enter string to be searched:\")\n",
    "l1=str.split(' ')\n",
    "c=0\n",
    "for i in l1:\n",
    "    if sub_str in i:\n",
    "        c=c+1\n",
    "print('count of--',sub_str,'--in string--',str,'--is:\\n',c)"
   ]
  },
  {
   "cell_type": "code",
   "execution_count": 8,
   "metadata": {},
   "outputs": [
    {
     "name": "stdout",
     "output_type": "stream",
     "text": [
      "enter string:uji\n",
      "enter character to be deleted:i\n",
      "uj\n"
     ]
    }
   ],
   "source": [
    "str=input(\"enter string:\")\n",
    "c=input(\"enter character to be deleted:\")\n",
    "l1=list(str)\n",
    "l1.remove(c)\n",
    "str2=''\n",
    "for i in l1:\n",
    "    str2=str2+i\n",
    "print(str2)"
   ]
  },
  {
   "cell_type": "code",
   "execution_count": 9,
   "metadata": {},
   "outputs": [
    {
     "name": "stdout",
     "output_type": "stream",
     "text": [
      "enter string:suji\n",
      "['s', 'u', 'j', 'i']\n"
     ]
    }
   ],
   "source": [
    "str=input(\"enter string:\")\n",
    "l1=list(str)\n",
    "print(l1)"
   ]
  },
  {
   "cell_type": "code",
   "execution_count": 10,
   "metadata": {},
   "outputs": [
    {
     "name": "stdout",
     "output_type": "stream",
     "text": [
      "enter string:suji\n",
      "s\n",
      "u\n",
      "j\n",
      "i\n"
     ]
    }
   ],
   "source": [
    "str=input(\"enter string:\")\n",
    "for i in str:\n",
    "    print(i)"
   ]
  },
  {
   "cell_type": "code",
   "execution_count": 11,
   "metadata": {},
   "outputs": [
    {
     "name": "stdout",
     "output_type": "stream",
     "text": [
      "length of refrigerator is 12\n"
     ]
    }
   ],
   "source": [
    "str=\"refrigerator\"\n",
    "c=0\n",
    "for i in str:\n",
    "    c=c+1\n",
    "print(\"length of\",str,'is',c)"
   ]
  },
  {
   "cell_type": "code",
   "execution_count": null,
   "metadata": {},
   "outputs": [],
   "source": []
  }
 ],
 "metadata": {
  "kernelspec": {
   "display_name": "Python 3",
   "language": "python",
   "name": "python3"
  },
  "language_info": {
   "codemirror_mode": {
    "name": "ipython",
    "version": 3
   },
   "file_extension": ".py",
   "mimetype": "text/x-python",
   "name": "python",
   "nbconvert_exporter": "python",
   "pygments_lexer": "ipython3",
   "version": "3.8.3"
  }
 },
 "nbformat": 4,
 "nbformat_minor": 4
}
