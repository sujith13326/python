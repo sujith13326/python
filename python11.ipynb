{
 "cells": [
  {
   "cell_type": "code",
   "execution_count": 5,
   "metadata": {},
   "outputs": [
    {
     "name": "stdout",
     "output_type": "stream",
     "text": [
      " A computer is a machine that can be instructed to carry out sequences of arithmetic or logical operations automatically via computer programming.\n",
      " Modern computers have the ability to follow generalized sets of operations, called programs. \n",
      " These programs enable computers to perform an extremely wide range of tasks.\n",
      "\n"
     ]
    }
   ],
   "source": [
    "fh=open(\"suji.txt\")\n",
    "print(fh.read())"
   ]
  },
  {
   "cell_type": "code",
   "execution_count": 6,
   "metadata": {},
   "outputs": [
    {
     "name": "stdout",
     "output_type": "stream",
     "text": [
      "Ener no of lines to be read:2\n",
      " A computer is a machine that can be instructed to carry out sequences of arithmetic or logical operations automatically via computer programming.\n",
      "\n",
      " Modern computers have the ability to follow generalized sets of operations, called programs. \n",
      "\n"
     ]
    }
   ],
   "source": [
    "fh=open(\"suji.txt\")\n",
    "n=int(input(\"Ener no of lines to be read:\"))\n",
    "for i in range(n):\n",
    "    print(fh.readline())"
   ]
  },
  {
   "cell_type": "code",
   "execution_count": 7,
   "metadata": {},
   "outputs": [
    {
     "name": "stdout",
     "output_type": "stream",
     "text": [
      "Enter string to be appended:dog\n",
      " A computer is a machine that can be instructed to carry out sequences of arithmetic or logical operations automatically via computer programming.\n",
      " Modern computers have the ability to follow generalized sets of operations, called programs. \n",
      " These programs enable computers to perform an extremely wide range of tasks.\n",
      "dog\n"
     ]
    }
   ],
   "source": [
    "fh=open(\"suji.txt\",\"a\")\n",
    "inpp=input(\"Enter string to be appended:\")\n",
    "fh.write(inpp)\n",
    "fh.close()\n",
    "fh=open(\"suji.txt\",\"r\")\n",
    "print(fh.read())"
   ]
  },
  {
   "cell_type": "code",
   "execution_count": 1,
   "metadata": {},
   "outputs": [
    {
     "name": "stdout",
     "output_type": "stream",
     "text": [
      "ener n:2\n",
      "[' These programs enable computers to perform an extremely wide range of tasks.\\n', 'dog']\n"
     ]
    }
   ],
   "source": [
    "fh=open(\"suji.txt\",\"r\")\n",
    "l1=fh.readlines()\n",
    "m=len(l1)\n",
    "n=int(input(\"ener n:\"))\n",
    "print(l1[(m-n):])"
   ]
  },
  {
   "cell_type": "code",
   "execution_count": 2,
   "metadata": {},
   "outputs": [
    {
     "name": "stdout",
     "output_type": "stream",
     "text": [
      " A computer is a machine that can be instructed to carry out sequences of arithmetic or logical operations automatically via computer programming.\n",
      " Modern computers have the ability to follow generalized sets of operations, called programs. \n",
      " These programs enable computers to perform an extremely wide range of tasks.\n",
      "dog\n"
     ]
    }
   ],
   "source": [
    "#5\n",
    "fh=open(\"suji.txt\",\"r\")\n",
    "str=''\n",
    "for i in fh:\n",
    "    str=str+i\n",
    "print(str)"
   ]
  },
  {
   "cell_type": "code",
   "execution_count": 3,
   "metadata": {},
   "outputs": [
    {
     "name": "stdout",
     "output_type": "stream",
     "text": [
      "[' A computer is a machine that can be instructed to carry out sequences of arithmetic or logical operations automatically via computer programming.\\n', ' Modern computers have the ability to follow generalized sets of operations, called programs. \\n', ' These programs enable computers to perform an extremely wide range of tasks.\\n', 'dog']\n"
     ]
    }
   ],
   "source": [
    "fh=open(\"suji.txt\",\"r\")\n",
    "l1=[]\n",
    "for i in fh:\n",
    "    l1.append(i)\n",
    "print(l1)"
   ]
  },
  {
   "cell_type": "code",
   "execution_count": 4,
   "metadata": {},
   "outputs": [
    {
     "name": "stdout",
     "output_type": "stream",
     "text": [
      "4\n"
     ]
    }
   ],
   "source": [
    "fh=open(\"suji.txt\",\"r\")\n",
    "l1=[]\n",
    "for i in fh:\n",
    "    l1.append(i)\n",
    "print(len(l1))"
   ]
  },
  {
   "cell_type": "code",
   "execution_count": 6,
   "metadata": {},
   "outputs": [
    {
     "name": "stdout",
     "output_type": "stream",
     "text": [
      "4\n"
     ]
    }
   ],
   "source": [
    "file=open(\"suji.txt\",\"r\")\n",
    "str=[]\n",
    "for i in file:\n",
    "    str.append(i)\n",
    "print(len(str))"
   ]
  },
  {
   "cell_type": "code",
   "execution_count": 7,
   "metadata": {},
   "outputs": [
    {
     "name": "stdout",
     "output_type": "stream",
     "text": [
      "323\n"
     ]
    }
   ],
   "source": [
    "fh=open(\"suji.txt\",\"r\")\n",
    "str=fh.read()\n",
    "print(len(str))"
   ]
  },
  {
   "cell_type": "code",
   "execution_count": 9,
   "metadata": {},
   "outputs": [
    {
     "name": "stdout",
     "output_type": "stream",
     "text": [
      " A computer is a machine that can be instructed to carry out sequences of arithmetic or logical operations automatically via computer programming.\n",
      " Modern computers have the ability to follow generalized sets of operations, called programs. \n",
      " These programs enable computers to perform an extremely wide range of tasks.\n",
      "dog A computer is a machine that can be instructed to carry out sequences of arithmetic or logical operations automatically via computer programming.\n",
      " Modern computers have the ability to follow generalized sets of operations, called programs. \n",
      " These programs enable computers to perform an extremely wide range of tasks.\n",
      "dog\n"
     ]
    }
   ],
   "source": [
    "fh=open(\"suji.txt\",\"a\")\n",
    "fi=open(\"suji.txt\",\"r\")\n",
    "for i in fi:\n",
    "    fh.write(i)\n",
    "fh.close()\n",
    "fh=open(\"suji.txt\",\"r\")\n",
    "print(fh.read())"
   ]
  },
  {
   "cell_type": "code",
   "execution_count": null,
   "metadata": {},
   "outputs": [],
   "source": []
  }
 ],
 "metadata": {
  "kernelspec": {
   "display_name": "Python 3",
   "language": "python",
   "name": "python3"
  },
  "language_info": {
   "codemirror_mode": {
    "name": "ipython",
    "version": 3
   },
   "file_extension": ".py",
   "mimetype": "text/x-python",
   "name": "python",
   "nbconvert_exporter": "python",
   "pygments_lexer": "ipython3",
   "version": "3.8.3"
  }
 },
 "nbformat": 4,
 "nbformat_minor": 4
}
