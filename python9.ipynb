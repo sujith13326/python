{
 "cells": [
  {
   "cell_type": "code",
   "execution_count": 2,
   "metadata": {},
   "outputs": [
    {
     "name": "stdout",
     "output_type": "stream",
     "text": [
      "enter the total numbers:1\n",
      "enter the number:1\n",
      "sum of the numbers is: 1\n"
     ]
    }
   ],
   "source": [
    "#program to sum all the items in a list\n",
    "l1=[]\n",
    "total_num=int(input(\"enter the total numbers:\"))\n",
    "for i in range(total_num):\n",
    "    x=int(input(\"enter the number:\"))\n",
    "    l1.append(x)\n",
    "print(\"sum of the numbers is:\",sum(l1))"
   ]
  },
  {
   "cell_type": "code",
   "execution_count": 3,
   "metadata": {},
   "outputs": [
    {
     "name": "stdout",
     "output_type": "stream",
     "text": [
      "enter the total numbers:2\n",
      "enter the number:1\n",
      "enter the number:2\n",
      "the multipies of all the items in a list is 2\n"
     ]
    }
   ],
   "source": [
    "#program to multiplies all the items in a list\n",
    "l1=[]\n",
    "tot=int(input(\"enter the total numbers:\"))\n",
    "product=1\n",
    "for i in range(tot):\n",
    "    x=int(input(\"enter the number:\"))\n",
    "    l1.append(x)\n",
    "    product=product*x\n",
    "print(\"the multipies of all the items in a list is\",product)\n"
   ]
  },
  {
   "cell_type": "code",
   "execution_count": 4,
   "metadata": {},
   "outputs": [
    {
     "name": "stdout",
     "output_type": "stream",
     "text": [
      "the smallest number in the list is -21\n",
      "the largest number in the list is 100\n"
     ]
    }
   ],
   "source": [
    "#program to get the largest and smallest number from the list\n",
    "l1=[2,-6,-21,7,81,4,100]\n",
    "x=min(l1)\n",
    "y=max(l1)\n",
    "print(\"the smallest number in the list is\",x)\n",
    "print(\"the largest number in the list is\",y)\n",
    "\n"
   ]
  },
  {
   "cell_type": "code",
   "execution_count": 5,
   "metadata": {},
   "outputs": [
    {
     "name": "stdout",
     "output_type": "stream",
     "text": [
      "[1, 2, 3, 4, 5]\n"
     ]
    }
   ],
   "source": [
    "#program to remove duplicate elements from a list\n",
    "l1=[1,1,2,2,3,3,4,5,5]\n",
    "l2=[]\n",
    "for i in l1:\n",
    "    if i not in l2:\n",
    "        l2.append(i)\n",
    "print(l2)"
   ]
  },
  {
   "cell_type": "code",
   "execution_count": 6,
   "metadata": {},
   "outputs": [
    {
     "name": "stdout",
     "output_type": "stream",
     "text": [
      "the list is empty\n"
     ]
    }
   ],
   "source": [
    "#program to check a list is empty or not\n",
    "l1=[]\n",
    "x=len(l1)\n",
    "if x==0:\n",
    "    print(\"the list is empty\")\n",
    "else:\n",
    "    print(\"the list is not empty\")"
   ]
  },
  {
   "cell_type": "code",
   "execution_count": null,
   "metadata": {},
   "outputs": [],
   "source": []
  }
 ],
 "metadata": {
  "kernelspec": {
   "display_name": "Python 3",
   "language": "python",
   "name": "python3"
  },
  "language_info": {
   "codemirror_mode": {
    "name": "ipython",
    "version": 3
   },
   "file_extension": ".py",
   "mimetype": "text/x-python",
   "name": "python",
   "nbconvert_exporter": "python",
   "pygments_lexer": "ipython3",
   "version": "3.8.3"
  }
 },
 "nbformat": 4,
 "nbformat_minor": 4
}
