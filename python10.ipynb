{
 "cells": [
  {
   "cell_type": "code",
   "execution_count": 1,
   "metadata": {},
   "outputs": [
    {
     "name": "stdout",
     "output_type": "stream",
     "text": [
      "[1, 2, 3, 4, 5]\n"
     ]
    }
   ],
   "source": [
    "#program to clone or copy a list\n",
    "l1=[1,2,3,4,5]\n",
    "l2=l1.copy()\n",
    "print(l2)"
   ]
  },
  {
   "cell_type": "code",
   "execution_count": 2,
   "metadata": {},
   "outputs": [
    {
     "name": "stdout",
     "output_type": "stream",
     "text": [
      "['lilly', 'jasmine', 'lotus']\n"
     ]
    }
   ],
   "source": [
    "#program to print a specified list after removing the 0th,4th,5th index elements from the list\n",
    "l1=['rose','lilly','jasmine','lotus','tulip','hibiscus']\n",
    "l1.pop(0)\n",
    "l1.pop(4)\n",
    "l1.pop()\n",
    "print(l1)"
   ]
  },
  {
   "cell_type": "code",
   "execution_count": 3,
   "metadata": {},
   "outputs": [
    {
     "name": "stdout",
     "output_type": "stream",
     "text": [
      "[1, 3, 5]\n"
     ]
    }
   ],
   "source": [
    "#program to print the numbers of a specified list after removing even numbers from it\n",
    "l1=[1,2,3,4,5,6]\n",
    "for i in l1:\n",
    "    if (i%2==0):\n",
    "        x=l1.remove(i)\n",
    "print(l1)"
   ]
  },
  {
   "cell_type": "code",
   "execution_count": 4,
   "metadata": {},
   "outputs": [
    {
     "name": "stdout",
     "output_type": "stream",
     "text": [
      "[2, 7, 5, 8, 3, 5, 1]\n"
     ]
    }
   ],
   "source": [
    "#program to shuffle and print a specified list\n",
    "import random\n",
    "l1=[2,1,5,3,8,5,7]\n",
    "random.shuffle(l1)\n",
    "print(l1)\n"
   ]
  },
  {
   "cell_type": "code",
   "execution_count": 5,
   "metadata": {},
   "outputs": [
    {
     "name": "stdout",
     "output_type": "stream",
     "text": [
      "the difference between two lists: [-1, 5, 2]\n"
     ]
    }
   ],
   "source": [
    "#program to get the difference between two lists\n",
    "l1=[3,6,9]\n",
    "l2=[4,1,7]\n",
    "l3=[]\n",
    "x=len(l1)\n",
    "for i in range(0,x):\n",
    "    y=l1[i]-l2[i]\n",
    "    l3.append(y)\n",
    "print(\"the difference between two lists:\",l3)"
   ]
  },
  {
   "cell_type": "code",
   "execution_count": null,
   "metadata": {},
   "outputs": [],
   "source": []
  }
 ],
 "metadata": {
  "kernelspec": {
   "display_name": "Python 3",
   "language": "python",
   "name": "python3"
  },
  "language_info": {
   "codemirror_mode": {
    "name": "ipython",
    "version": 3
   },
   "file_extension": ".py",
   "mimetype": "text/x-python",
   "name": "python",
   "nbconvert_exporter": "python",
   "pygments_lexer": "ipython3",
   "version": "3.8.3"
  }
 },
 "nbformat": 4,
 "nbformat_minor": 4
}
