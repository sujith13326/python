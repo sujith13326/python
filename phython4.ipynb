{
 "cells": [
  {
   "cell_type": "code",
   "execution_count": 2,
   "metadata": {},
   "outputs": [
    {
     "name": "stdout",
     "output_type": "stream",
     "text": [
      "enter first value2\n",
      "enter second value3\n",
      "enter third value4\n",
      "c is larger\n"
     ]
    }
   ],
   "source": [
    "a=int(input('enter first value'))\n",
    "b=int(input('enter second value'))\n",
    "c=int(input('enter third value'))\n",
    "if a>=b and a>=c:\n",
    "    print(\"a is larger\")\n",
    "elif b>=a and b>=c:\n",
    "    print(\"a is larger\")\n",
    "else:\n",
    "    print(\"c is larger\")"
   ]
  },
  {
   "cell_type": "code",
   "execution_count": 3,
   "metadata": {},
   "outputs": [
    {
     "name": "stdout",
     "output_type": "stream",
     "text": [
      "the original string is:gitam\n",
      "the reversed string is:matig\n"
     ]
    }
   ],
   "source": [
    "def reverse(s):\n",
    "  str=\"\"\n",
    "  for i in s:\n",
    "    str=i+str\n",
    "  return str\n",
    "s=\"gitam\"\n",
    "print(\"the original string is:\",end=\"\")\n",
    "print(s)\n",
    "print(\"the reversed string is:\",end=\"\")\n",
    "print(reverse(s))"
   ]
  },
  {
   "cell_type": "code",
   "execution_count": 4,
   "metadata": {},
   "outputs": [
    {
     "name": "stdout",
     "output_type": "stream",
     "text": [
      "enter the number:9\n",
      "9 is a prime number\n"
     ]
    }
   ],
   "source": [
    "\n",
    "c=0\n",
    "x=int(input(\"enter the number:\"))\n",
    "z=x\n",
    "for i in range(2,x):\n",
    " y=x%2\n",
    " if(y==0):\n",
    "   c=c+1\n",
    "if(c>0):\n",
    "  print(z,\"is not a prime number\")\n",
    "else:\n",
    "  print(z,\"is a prime number\")\n"
   ]
  },
  {
   "cell_type": "code",
   "execution_count": 6,
   "metadata": {},
   "outputs": [
    {
     "name": "stdout",
     "output_type": "stream",
     "text": [
      "Enter any number436\n",
      "given number is not palindrome\n"
     ]
    }
   ],
   "source": [
    "num=input(\"Enter any number\")\n",
    "try:\n",
    "    x=int(num)\n",
    "    if num==num[::-1]:\n",
    "        print(\"given number is palindrome\")\n",
    "    else:\n",
    "        print(\"given number is not palindrome\")\n",
    "except:\n",
    "    print(\"invalid number\")"
   ]
  },
  {
   "cell_type": "code",
   "execution_count": 7,
   "metadata": {},
   "outputs": [
    {
     "name": "stdout",
     "output_type": "stream",
     "text": [
      "285\n"
     ]
    }
   ],
   "source": [
    "def squaresum(n):\n",
    "  return(n*(n+1)*(2*n+1))//6\n",
    "n=9\n",
    "print(squaresum(n))\n"
   ]
  },
  {
   "cell_type": "code",
   "execution_count": null,
   "metadata": {},
   "outputs": [],
   "source": []
  }
 ],
 "metadata": {
  "kernelspec": {
   "display_name": "Python 3",
   "language": "python",
   "name": "python3"
  },
  "language_info": {
   "codemirror_mode": {
    "name": "ipython",
    "version": 3
   },
   "file_extension": ".py",
   "mimetype": "text/x-python",
   "name": "python",
   "nbconvert_exporter": "python",
   "pygments_lexer": "ipython3",
   "version": "3.8.3"
  }
 },
 "nbformat": 4,
 "nbformat_minor": 4
}
