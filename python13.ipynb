{
 "cells": [
  {
   "cell_type": "code",
   "execution_count": 1,
   "metadata": {},
   "outputs": [
    {
     "name": "stdout",
     "output_type": "stream",
     "text": [
      "{'a': [1, 2, 3], 's': 2, 'd': 3}\n"
     ]
    }
   ],
   "source": [
    "# WHAT IS DICTIONARY IN PYTHON ? EXPLAIN WITH EXAMPLE.\n",
    "\"\"\"\n",
    "In Python Dictionary is used to store the data in a key-value pair format.The dictionary is the data type in Python\n",
    "It is the mutable data-structure. The dictionary is defined into element Keys and values and it enclosed with the curly brackets\n",
    "{} and each key is saparated from its value by the colon (:)\n",
    "\n",
    "-> Keys must be a single element\n",
    "->Value can be any type such as list, tuple, integer, etc.\n",
    "\n",
    "\"\"\"\n",
    "# simple example of Dictionary\n",
    "di={\"a\":[1,2,3],\"s\":2,\"d\":3}\n",
    "print(di)"
   ]
  },
  {
   "cell_type": "code",
   "execution_count": 2,
   "metadata": {},
   "outputs": [
    {
     "name": "stdout",
     "output_type": "stream",
     "text": [
      "enter total no of elements:2\n",
      "enter the number:2\n",
      "enter the number:3\n",
      "[2, 3]\n",
      "sum of all elements in the list is: 5\n"
     ]
    }
   ],
   "source": [
    "#(3)program to sum all the items in a list\n",
    "l1=[]\n",
    "n=int(input(\"enter total no of elements:\"))\n",
    "for i in range(n):\n",
    "    x=int(input(\"enter the number:\"))\n",
    "    l1.append(x)\n",
    "print(l1)\n",
    "print(\"sum of all elements in the list is:\",sum(l1))\n"
   ]
  },
  {
   "cell_type": "code",
   "execution_count": 3,
   "metadata": {},
   "outputs": [
    {
     "name": "stdout",
     "output_type": "stream",
     "text": [
      "enter total no of empty dictionaries:3\n",
      "[{}, {}, {}]\n"
     ]
    }
   ],
   "source": [
    "#(4)program to create a list of empty dictionaries\n",
    "l1=[]\n",
    "d={}\n",
    "n=int(input(\"enter total no of empty dictionaries:\"))\n",
    "for i in range(n):\n",
    "    l1.append(d)\n",
    "print(l1)"
   ]
  },
  {
   "cell_type": "code",
   "execution_count": 1,
   "metadata": {},
   "outputs": [
    {
     "name": "stdout",
     "output_type": "stream",
     "text": [
      "e\n"
     ]
    }
   ],
   "source": [
    "#(5)program to access dictionary keys element by index\n",
    "d={'a':1,'b':2,'c':3,'d':4,'e':5}\n",
    "print(list(d)[4])\n"
   ]
  },
  {
   "cell_type": "code",
   "execution_count": 2,
   "metadata": {},
   "outputs": [
    {
     "name": "stdout",
     "output_type": "stream",
     "text": [
      "a 1\n",
      "b 2\n",
      "c 3\n",
      "d 4\n",
      "e 5\n"
     ]
    }
   ],
   "source": [
    "#(6)program to iterate over dictionaries using for loops\n",
    "d={'a':1,'b':2,'c':3,'d':4,'e':5}\n",
    "for i in d:\n",
    "    print(i,d[i])\n"
   ]
  },
  {
   "cell_type": "code",
   "execution_count": 3,
   "metadata": {},
   "outputs": [
    {
     "name": "stdout",
     "output_type": "stream",
     "text": [
      "the sum of all items in the dictionary: 21\n"
     ]
    }
   ],
   "source": [
    "\n",
    "#(7)program to sum all the items in a dictionary\n",
    "d={1:2,3:4,5:6}\n",
    "sum1=0\n",
    "sum2=0\n",
    "for i in d:\n",
    "    sum1=sum1+i\n",
    "    sum2=sum2+d[i]\n",
    "sum3=sum1+sum2\n",
    "print(\"the sum of all items in the dictionary:\",sum3)\n",
    "\n"
   ]
  },
  {
   "cell_type": "code",
   "execution_count": 4,
   "metadata": {},
   "outputs": [
    {
     "name": "stdout",
     "output_type": "stream",
     "text": [
      "{1: 10, 2: 20, 3: 30, 4: 40, 5: 50, 6: 60}\n"
     ]
    }
   ],
   "source": [
    "\n",
    "#(8,9)to concatenate dictionaries and to create a new one\n",
    "d1={1:10, 2:20}\n",
    "d2={3:30, 4:40}\n",
    "d3={5:50,6:60}\n",
    "d2.update(d3)\n",
    "d1.update(d2)\n",
    "print(d1)\n",
    "\n"
   ]
  },
  {
   "cell_type": "code",
   "execution_count": 5,
   "metadata": {},
   "outputs": [
    {
     "name": "stdout",
     "output_type": "stream",
     "text": [
      "enter the number of elements to be created in a tuple:3\n",
      "enter the element:2\n",
      "enter the element:3\n",
      "enter the element:4\n",
      "('2', '3', '4')\n"
     ]
    }
   ],
   "source": [
    "#(10)program to create a tuple\n",
    "l=[]\n",
    "n=int(input(\"enter the number of elements to be created in a tuple:\"))\n",
    "for i in range(n):\n",
    "    x=input(\"enter the element:\")\n",
    "    l.append(x)\n",
    "t=tuple(l)\n",
    "print(t)"
   ]
  },
  {
   "cell_type": "code",
   "execution_count": 6,
   "metadata": {},
   "outputs": [
    {
     "name": "stdout",
     "output_type": "stream",
     "text": [
      "enter a number:3\n",
      "enter a floating point number:2.1\n",
      "enter a string:suji\n",
      "(3, 2.1, 'suji')\n"
     ]
    }
   ],
   "source": [
    "#(11)program to create a tuple with different data types \n",
    "number=int(input(\"enter a number:\"))\n",
    "floating=float(input(\"enter a floating point number:\"))\n",
    "string=input(\"enter a string:\")\n",
    "tuple1=(number,floating,string)\n",
    "print(tuple1)\n",
    "\n"
   ]
  },
  {
   "cell_type": "code",
   "execution_count": 7,
   "metadata": {},
   "outputs": [
    {
     "name": "stdout",
     "output_type": "stream",
     "text": [
      "yoursel\n"
     ]
    }
   ],
   "source": [
    "#(12)program to convert a tuple to a string \n",
    "t=('y','o','u','r','s','e','l')\n",
    "s=''.join(t)\n",
    "print(s)\n"
   ]
  },
  {
   "cell_type": "code",
   "execution_count": 9,
   "metadata": {},
   "outputs": [
    {
     "name": "stdout",
     "output_type": "stream",
     "text": [
      "('r', 's', 'e', 'l')\n",
      "('y', 'o')\n",
      "('r', 's')\n",
      "('y', 'o', 'u', 'r')\n"
     ]
    }
   ],
   "source": [
    "\n",
    "#(13)program to slice a tuple \n",
    "t=('y','o','u','r','s','e','l')\n",
    "slice1=t[3:]\n",
    "slice2=t[:-5]\n",
    "slice3=t[3:5]\n",
    "slice4=t[-7:-3]\n",
    "print(slice1)\n",
    "print(slice2)\n",
    "print(slice3)\n",
    "print(slice4)"
   ]
  },
  {
   "cell_type": "code",
   "execution_count": 10,
   "metadata": {},
   "outputs": [
    {
     "name": "stdout",
     "output_type": "stream",
     "text": [
      "the length of the tuple is 7\n"
     ]
    }
   ],
   "source": [
    "#(14)program to find the length of a tuple\n",
    "t=('y','o','u','r','s','e','l')\n",
    "x=len(t)\n",
    "print(\"the length of the tuple is\",x)"
   ]
  },
  {
   "cell_type": "code",
   "execution_count": 11,
   "metadata": {},
   "outputs": [
    {
     "name": "stdout",
     "output_type": "stream",
     "text": [
      "{'1': 'a', '2': 'b', '3': 'c', '4': 'd', '5': 'e'}\n"
     ]
    }
   ],
   "source": [
    "\n",
    "#(15)program to convert a tuple to a dictionary\n",
    "t=('1a','2b','3c','4d','5e')\n",
    "dict1=dict(t)\n",
    "print(dict1)\n"
   ]
  },
  {
   "cell_type": "code",
   "execution_count": 12,
   "metadata": {},
   "outputs": [
    {
     "name": "stdout",
     "output_type": "stream",
     "text": [
      "the reversed tuple is: ('l', 'e', 's', 'r', 'u', 'o', 'y')\n"
     ]
    }
   ],
   "source": [
    "#(16)program to reverse a tuple \n",
    "t=('y','o','u','r','s','e','l')\n",
    "revt=tuple(reversed(t))\n",
    "print(\"the reversed tuple is:\",revt)\n"
   ]
  },
  {
   "cell_type": "code",
   "execution_count": 13,
   "metadata": {},
   "outputs": [
    {
     "name": "stdout",
     "output_type": "stream",
     "text": [
      "{'a': 'b', 'c': 'd', 'e': 'f', 'g': 'h'}\n"
     ]
    }
   ],
   "source": [
    "#(17)program to convert a list of tuples into a dictionary \n",
    "t=(('a','b'),('c','d'),('e','f'),('g','h'))\n",
    "dict1=dict(t)\n",
    "print(dict1)"
   ]
  },
  {
   "cell_type": "code",
   "execution_count": 14,
   "metadata": {},
   "outputs": [
    {
     "name": "stdout",
     "output_type": "stream",
     "text": [
      "after converting a list to a tuple:\n",
      "(1, 2, 3, 4, 5, 6, 7, 8, 9)\n"
     ]
    }
   ],
   "source": [
    "#(18)program to convert a list to a tuple\n",
    "list1=[1,2,3,4,5,6,7,8,9]\n",
    "tuple1=tuple(list1)\n",
    "print(\"after converting a list to a tuple:\")\n",
    "print(tuple1)"
   ]
  },
  {
   "cell_type": "code",
   "execution_count": null,
   "metadata": {},
   "outputs": [],
   "source": []
  }
 ],
 "metadata": {
  "kernelspec": {
   "display_name": "Python 3",
   "language": "python",
   "name": "python3"
  },
  "language_info": {
   "codemirror_mode": {
    "name": "ipython",
    "version": 3
   },
   "file_extension": ".py",
   "mimetype": "text/x-python",
   "name": "python",
   "nbconvert_exporter": "python",
   "pygments_lexer": "ipython3",
   "version": "3.8.3"
  }
 },
 "nbformat": 4,
 "nbformat_minor": 4
}
