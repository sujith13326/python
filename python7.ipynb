{
 "cells": [
  {
   "cell_type": "code",
   "execution_count": 1,
   "metadata": {},
   "outputs": [
    {
     "name": "stdout",
     "output_type": "stream",
     "text": [
      "Enter stringsuji\n",
      "ijus\n"
     ]
    }
   ],
   "source": [
    "str=input(\"Enter string\")\n",
    "str2=str[::-1]\n",
    "print(str2)"
   ]
  },
  {
   "cell_type": "code",
   "execution_count": 5,
   "metadata": {},
   "outputs": [
    {
     "name": "stdout",
     "output_type": "stream",
     "text": [
      "!!!enter done to stop giving input:!!!\n",
      "Enter number:2\n",
      "Enter number:3\n",
      "Enter number:4\n",
      "Enter number:5\n",
      "Enter number:done\n",
      "[2, 3, 4, 5]\n",
      "even numbers count= 2 \n",
      "odd number count= 2\n"
     ]
    }
   ],
   "source": [
    "l1=[]\n",
    "print(\"!!!enter done to stop giving input:!!!\")\n",
    "while True:\n",
    "    n=input(\"Enter number:\")\n",
    "    if n=='done':\n",
    "        break\n",
    "    else:\n",
    "        x=int(n)\n",
    "        l1.append(x)\n",
    "print(l1)\n",
    "ec=0\n",
    "oc=0\n",
    "for i in l1:\n",
    "    if i%2==0:\n",
    "        ec=ec+1\n",
    "    else:\n",
    "        oc=oc+1\n",
    "print(\"even numbers count=\",ec,\"\\nodd number count=\",oc)\n"
   ]
  },
  {
   "cell_type": "code",
   "execution_count": 3,
   "metadata": {},
   "outputs": [
    {
     "name": "stdout",
     "output_type": "stream",
     "text": [
      "0\n",
      "1\n",
      "2\n",
      "4\n",
      "5\n"
     ]
    }
   ],
   "source": [
    "for i in range(0,7):\n",
    "    if i==3 or i==6:\n",
    "        continue\n",
    "    print(i)"
   ]
  },
  {
   "cell_type": "code",
   "execution_count": 4,
   "metadata": {},
   "outputs": [
    {
     "name": "stdout",
     "output_type": "stream",
     "text": [
      "Enter number:5\n",
      "Enter number:4\n",
      "1\n"
     ]
    }
   ],
   "source": [
    "n1=int(input(\"Enter number:\"))\n",
    "n2=int(input(\"Enter number:\"))\n",
    "if n1>n2:\n",
    "    b=n1\n",
    "    s=n2\n",
    "else:\n",
    "    b=n2\n",
    "    s=n1\n",
    "while b>s:\n",
    "    if(b>s):\n",
    "        b=b-s\n",
    "    else:\n",
    "        s=s-b\n",
    "print(b)"
   ]
  },
  {
   "cell_type": "code",
   "execution_count": null,
   "metadata": {},
   "outputs": [],
   "source": []
  }
 ],
 "metadata": {
  "kernelspec": {
   "display_name": "Python 3",
   "language": "python",
   "name": "python3"
  },
  "language_info": {
   "codemirror_mode": {
    "name": "ipython",
    "version": 3
   },
   "file_extension": ".py",
   "mimetype": "text/x-python",
   "name": "python",
   "nbconvert_exporter": "python",
   "pygments_lexer": "ipython3",
   "version": "3.8.3"
  }
 },
 "nbformat": 4,
 "nbformat_minor": 4
}
