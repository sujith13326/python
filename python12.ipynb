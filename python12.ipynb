{
 "cells": [
  {
   "cell_type": "code",
   "execution_count": 1,
   "metadata": {},
   "outputs": [
    {
     "name": "stdout",
     "output_type": "stream",
     "text": [
      "12\n"
     ]
    }
   ],
   "source": [
    "dict={2,6,4}\n",
    "sum=0\n",
    "for i in dict:\n",
    "    sum+=i\n",
    "print(sum)"
   ]
  },
  {
   "cell_type": "code",
   "execution_count": 2,
   "metadata": {},
   "outputs": [
    {
     "name": "stdout",
     "output_type": "stream",
     "text": [
      "12\n"
     ]
    }
   ],
   "source": [
    "dict={2,6,4}\n",
    "sum=0\n",
    "for i in dict:\n",
    "    sum+=i\n",
    "print(sum)"
   ]
  },
  {
   "cell_type": "code",
   "execution_count": 3,
   "metadata": {},
   "outputs": [
    {
     "name": "stdout",
     "output_type": "stream",
     "text": [
      "{'Indian culture': 'Namaste🙏🏻', 'Foreign culture': 'hi👋🏻'}\n"
     ]
    }
   ],
   "source": [
    "dict1={\"Indian culture\":\"Namaste🙏🏻\"}\n",
    "dict2={\"Foreign culture\":\"hi👋🏻\"}\n",
    "dict1.update(dict2)\n",
    "print(dict1)"
   ]
  },
  {
   "cell_type": "code",
   "execution_count": 5,
   "metadata": {},
   "outputs": [
    {
     "name": "stdout",
     "output_type": "stream",
     "text": [
      "current dict is: {'suji': 'suma'}\n",
      "updated dict is : {'suji': 'suma', 'brother': 'suji'}\n"
     ]
    }
   ],
   "source": [
    "dict={\"suji\":\"suma\"}\n",
    "print(\"current dict is:\",dict)\n",
    "dict[\"brother\"]=\"suji\"\n",
    "print(\"updated dict is :\",dict)"
   ]
  },
  {
   "cell_type": "code",
   "execution_count": 6,
   "metadata": {},
   "outputs": [
    {
     "name": "stdout",
     "output_type": "stream",
     "text": [
      "2\n"
     ]
    }
   ],
   "source": [
    "dict={\"suji\":\"suji\",\"s\":\"s\"}\n",
    "print(len(dict))"
   ]
  },
  {
   "cell_type": "code",
   "execution_count": 7,
   "metadata": {},
   "outputs": [
    {
     "name": "stdout",
     "output_type": "stream",
     "text": [
      "{3: 's', 12: 's', 29: 'a'}\n",
      "{}\n"
     ]
    }
   ],
   "source": [
    "dict={3:\"s\",12:\"s\",29:\"a\",5:\"p\"}\n",
    " # del method is use to delet the item \n",
    "del dict[5]                         \n",
    "print(dict)\n",
    "  # clear() is use for to clear all the items in dict\n",
    "dict.clear()        \n",
    "print(dict)"
   ]
  },
  {
   "cell_type": "code",
   "execution_count": null,
   "metadata": {},
   "outputs": [],
   "source": []
  }
 ],
 "metadata": {
  "kernelspec": {
   "display_name": "Python 3",
   "language": "python",
   "name": "python3"
  },
  "language_info": {
   "codemirror_mode": {
    "name": "ipython",
    "version": 3
   },
   "file_extension": ".py",
   "mimetype": "text/x-python",
   "name": "python",
   "nbconvert_exporter": "python",
   "pygments_lexer": "ipython3",
   "version": "3.8.3"
  }
 },
 "nbformat": 4,
 "nbformat_minor": 4
}
