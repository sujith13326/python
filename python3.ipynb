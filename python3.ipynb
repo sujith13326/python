{
 "cells": [
  {
   "cell_type": "code",
   "execution_count": 1,
   "metadata": {},
   "outputs": [
    {
     "name": "stdout",
     "output_type": "stream",
     "text": [
      "enter the age of the person:14\n",
      "that person is not elgible for voting\n"
     ]
    }
   ],
   "source": [
    "#to check whether a person is eligible for voting or not using if-else\n",
    "x=int(input(\"enter the age of the person:\"))\n",
    "if(x>=18):\n",
    "\tprint(\"that person is elgible for voting\")\n",
    "else:\n",
    "\tprint(\"that person is not elgible for voting\")"
   ]
  },
  {
   "cell_type": "code",
   "execution_count": 2,
   "metadata": {},
   "outputs": [
    {
     "name": "stdout",
     "output_type": "stream",
     "text": [
      "enter the number:4\n",
      "4 is a even number\n"
     ]
    }
   ],
   "source": [
    "#to check whether a number is even or odd using if-else\n",
    "x=int(input(\"enter the number:\"))\n",
    "if((x%2)==0):\n",
    "\tprint(x,\"is a even number\")\n",
    "else:\n",
    "\tprint(x,\"is a odd number\")"
   ]
  },
  {
   "cell_type": "code",
   "execution_count": 3,
   "metadata": {},
   "outputs": [
    {
     "name": "stdout",
     "output_type": "stream",
     "text": [
      "enter the number:9\n",
      "9 is a prime number\n"
     ]
    }
   ],
   "source": [
    "#to check whether a number is prime or not using if-else\n",
    "c=0\n",
    "x=int(input(\"enter the number:\"))\n",
    "z=x\n",
    "for i in range(2,x):\n",
    "\ty=x%2\n",
    "\tif(y==0):\n",
    "\t  c=c+1\n",
    "if(c>0):\n",
    "\tprint(z,\"is not a prime number\")\n",
    "else:\n",
    "\tprint(z,\"is a prime number\")"
   ]
  },
  {
   "cell_type": "code",
   "execution_count": 4,
   "metadata": {},
   "outputs": [
    {
     "name": "stdout",
     "output_type": "stream",
     "text": [
      "enter the number:9\n",
      "9 is a positive number\n"
     ]
    }
   ],
   "source": [
    "#to check whether a number is positive or not using if-else.\n",
    "n=int(input(\"enter the number:\"))\n",
    "if(n>0):\n",
    "\tprint(n,\"is a positive number\")\n",
    "else:\n",
    "\tprint(n,\"is a negative number\")"
   ]
  },
  {
   "cell_type": "code",
   "execution_count": 5,
   "metadata": {},
   "outputs": [
    {
     "name": "stdout",
     "output_type": "stream",
     "text": [
      "enter the number:0\n",
      "0 is zero\n"
     ]
    }
   ],
   "source": [
    "#using nested-if to check whether a number is positive or negative or zero\n",
    "n=int(input(\"enter the number:\"))\n",
    "if(n>=0):\n",
    "\tif(n==0):\n",
    "\t\tprint(n,\"is zero\")\n",
    "\telse:\n",
    "\t\tprint(n,\"is positive number\")\n",
    "else:\n",
    "\tprint(n,\"is negative number\")\n"
   ]
  },
  {
   "cell_type": "code",
   "execution_count": 6,
   "metadata": {},
   "outputs": [
    {
     "name": "stdout",
     "output_type": "stream",
     "text": [
      "enter the value of a:2\n",
      "enter the value of b:3\n",
      "enter the value of c:4\n",
      "the roots are imaginary\n",
      "-0.75 +i (7.34149965534362e-17+1.1989578808281798j) and -0.75 -i (7.34149965534362e-17+1.1989578808281798j) are the roots of quadratic equation\n"
     ]
    }
   ],
   "source": [
    "# to find the roots of a quadratic equation using elif\n",
    "a=float(input(\"enter the value of a:\"))\n",
    "b=float(input(\"enter the value of b:\"))\n",
    "c=float(input(\"enter the value of c:\"))\n",
    "if(a==0):\n",
    "\tprint(\"it is not a quadratic equation\")\n",
    "else:\n",
    "\td=((b*b)-(4*a*c))\n",
    "\tif(d==0):\n",
    "\t\tprint(\"the roots are real and equal\")\n",
    "\t\tx=(-b/(2*a))\n",
    "\t\ty=x\n",
    "\t\tprint(x,\"and\",y,\"are the roots of the quadratic equation\")\n",
    "\telif(d>0):\n",
    "\t\tprint(\"the roots are real and distinct\")\n",
    "\t\te=pow(d,0.5)\n",
    "\t\tx=((-b+e)/(2*a))\n",
    "\t\ty=((-b-e)/(2*a))\n",
    "\t\tprint(x,\"and\",y,\"are the roots of quadratic equation\")\n",
    "\telse:\n",
    "\t\tprint(\"the roots are imaginary\")\n",
    "\t\te=pow(d,0.5)\n",
    "\t\tx=(-b/(2*a))\n",
    "\t\ty=(e/(2*a))\n",
    "\t\tprint(x,\"+i\",y,\"and\",x,\"-i\",y,\"are the roots of quadratic equation\")\n"
   ]
  },
  {
   "cell_type": "code",
   "execution_count": 7,
   "metadata": {},
   "outputs": [
    {
     "name": "stdout",
     "output_type": "stream",
     "text": [
      "enter the number:2\n",
      "two\n"
     ]
    }
   ],
   "source": [
    "#program to accept a number(1-5) and print the given number in words using nested-if\n",
    "n=int(input(\"enter the number:\"))\n",
    "if((n==1)|(n==2)|(n==3)|(n==4)|(n==5)):\n",
    "\tif(0<n<6):\n",
    "\t\tif(n==1):\n",
    "\t\t\tprint(\"one\")\n",
    "\t\tif(n==2):\n",
    "\t\t\tprint(\"two\")\n",
    "\t\tif(n==3):\n",
    "\t\t\tprint(\"three\")\n",
    "\t\tif(n==4):\n",
    "\t\t\tprint(\"four\")\n",
    "\t\tif(n==5):\n",
    "\t\t\tprint(\"five\")\n",
    "else:\n",
    "\tprint(\"reject the number\")"
   ]
  },
  {
   "cell_type": "code",
   "execution_count": 8,
   "metadata": {},
   "outputs": [
    {
     "name": "stdout",
     "output_type": "stream",
     "text": [
      "enter a character:s\n",
      "s is a consonant\n"
     ]
    }
   ],
   "source": [
    "\n",
    "\n",
    "#program to read a character and print the given character is vowel or consonant.\n",
    "ch=input(\"enter a character:\")\n",
    "if((ch=='a')|(ch=='A')|(ch=='e')|(ch=='E')|(ch=='i')|(ch=='I')|(ch=='o')|(ch=='O')|(ch=='u')|(ch=='U')):\n",
    "\tprint(ch,\"is a vowel\")\n",
    "else:\n",
    "\tprint(ch,\"is a consonant\")"
   ]
  },
  {
   "cell_type": "code",
   "execution_count": null,
   "metadata": {},
   "outputs": [],
   "source": []
  }
 ],
 "metadata": {
  "kernelspec": {
   "display_name": "Python 3",
   "language": "python",
   "name": "python3"
  },
  "language_info": {
   "codemirror_mode": {
    "name": "ipython",
    "version": 3
   },
   "file_extension": ".py",
   "mimetype": "text/x-python",
   "name": "python",
   "nbconvert_exporter": "python",
   "pygments_lexer": "ipython3",
   "version": "3.8.3"
  }
 },
 "nbformat": 4,
 "nbformat_minor": 4
}
